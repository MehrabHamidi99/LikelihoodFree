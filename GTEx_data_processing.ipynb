{
 "cells": [
  {
   "cell_type": "code",
   "execution_count": 27,
   "outputs": [],
   "source": [
    "import numpy as np\n",
    "import pandas as pd\n",
    "import os\n",
    "import sys\n",
    "\n",
    "\n",
    "import matplotlib.pyplot as plt\n",
    "import seaborn as sns; sns.set()\n",
    "from sklearn import decomposition\n",
    "from sklearn.preprocessing import StandardScaler\n",
    "from sklearn.model_selection import train_test_split\n",
    "from torch.distributions.multivariate_normal import MultivariateNormal\n",
    "\n",
    "from sklearn.svm import SVR\n",
    "from scipy.stats import pearsonr\n",
    "from sklearn.metrics import accuracy_score, confusion_matrix\n",
    "import torch\n",
    "import torch.nn as nn\n",
    "import pyro\n",
    "from pyro.distributions import Binomial, Normal\n",
    "import torch.nn.functional as F\n",
    "\n",
    "from torch.utils.data import DataLoader, Dataset\n",
    "from torch.autograd import Variable\n",
    "from torch import optim\n",
    "\n",
    "from tqdm import tqdm\n",
    "\n",
    "import scipy.stats as stats\n",
    "from scipy.stats import bernoulli, binom\n",
    "from sklearn import linear_model\n",
    "\n",
    "from numpy import asarray\n",
    "from numpy import savetxt"
   ],
   "metadata": {
    "collapsed": false,
    "pycharm": {
     "name": "#%%\n"
    }
   }
  },
  {
   "cell_type": "code",
   "execution_count": 64,
   "outputs": [],
   "source": [
    "# Hyperparameter\n",
    "\n",
    "REP = 20\n",
    "# total_beta_sample = 100\n",
    "\n",
    "num_epochs = 5000\n",
    "EPSILON = 1\n",
    "lambda_val = 0.02\n",
    "BATCH_SIZE = 64\n",
    "\n",
    "RES_DICT = {'REP': REP, 'BATCH_SIZE': BATCH_SIZE}\n",
    "\n",
    "data_path = 'data/mehrab_GTEx_sample/'\n",
    "\n",
    "simple_model = False\n"
   ],
   "metadata": {
    "collapsed": false,
    "pycharm": {
     "name": "#%%\n"
    }
   }
  },
  {
   "cell_type": "code",
   "execution_count": 5,
   "outputs": [],
   "source": [
    "genes = os.listdir(data_path)"
   ],
   "metadata": {
    "collapsed": false,
    "pycharm": {
     "name": "#%%\n"
    }
   }
  },
  {
   "cell_type": "code",
   "execution_count": 205,
   "outputs": [
    {
     "data": {
      "text/plain": "101"
     },
     "execution_count": 205,
     "metadata": {},
     "output_type": "execute_result"
    }
   ],
   "source": [
    "len(genes)"
   ],
   "metadata": {
    "collapsed": false,
    "pycharm": {
     "name": "#%%\n"
    }
   }
  },
  {
   "cell_type": "code",
   "execution_count": 6,
   "outputs": [
    {
     "name": "stdout",
     "output_type": "stream",
     "text": [
      "ENSG00000272821.1\n"
     ]
    }
   ],
   "source": [
    "gene_name = genes[0]\n",
    "print(gene_name)\n",
    "matrix_path = data_path + gene_name + '/'\n"
   ],
   "metadata": {
    "collapsed": false,
    "pycharm": {
     "name": "#%%\n"
    }
   }
  },
  {
   "cell_type": "code",
   "execution_count": 7,
   "outputs": [
    {
     "data": {
      "text/plain": "(54, 949)"
     },
     "execution_count": 7,
     "metadata": {},
     "output_type": "execute_result"
    }
   ],
   "source": [
    "expression_for_each_gene = pd.read_csv(matrix_path + 'expression.csv') # Y variable (though we have multiple Y's and we can select one of them!\n",
    "expression_for_each_gene.shape"
   ],
   "metadata": {
    "collapsed": false,
    "pycharm": {
     "name": "#%%\n"
    }
   }
  },
  {
   "cell_type": "code",
   "execution_count": 79,
   "outputs": [
    {
     "name": "stdout",
     "output_type": "stream",
     "text": [
      "Muscle - Skeletal\n"
     ]
    }
   ],
   "source": [
    "np.sum(pd.isna(expression_for_each_gene).values, axis=-1)\n",
    "less_nan_value_index = np.argsort(np.sum(pd.isna(expression_for_each_gene).values, axis=-1))[0]\n",
    "target_variable = expression_for_each_gene.iloc[less_nan_value_index, :]\n",
    "target_variable = target_variable.dropna()\n",
    "print(target_variable.values[0])\n",
    "y = target_variable.values[1:].astype(np.float64)\n",
    "sample_names = list(target_variable.index[1:])"
   ],
   "metadata": {
    "collapsed": false,
    "pycharm": {
     "name": "#%%\n"
    }
   }
  },
  {
   "cell_type": "code",
   "execution_count": 80,
   "outputs": [],
   "source": [
    "input_matrix = pd.read_csv(matrix_path + 'genotype.012')\n",
    "genotype_matrix = input_matrix.loc[input_matrix['Unnamed: 0'].isin(sample_names)].values\n",
    "X = genotype_matrix[:, 1:].astype(np.float64)"
   ],
   "metadata": {
    "collapsed": false,
    "pycharm": {
     "name": "#%%\n"
    }
   }
  },
  {
   "cell_type": "code",
   "execution_count": 83,
   "outputs": [],
   "source": [
    "X_train, X_test, y_train, y_test = train_test_split(X, y, test_size=0.33, random_state=42)"
   ],
   "metadata": {
    "collapsed": false,
    "pycharm": {
     "name": "#%%\n"
    }
   }
  },
  {
   "cell_type": "code",
   "execution_count": 84,
   "outputs": [],
   "source": [
    "class Loader(Dataset):\n",
    "    \"\"\"Face Landmarks dataset.\"\"\"\n",
    "\n",
    "    def __init__(self, genotype_matrix, expression, batch_size=1):\n",
    "\n",
    "        self.expression = expression\n",
    "        self.genotype_matrix = genotype_matrix\n",
    "\n",
    "        self.batch_size = batch_size\n",
    "\n",
    "    def __len__(self):\n",
    "        return len(self.genotype_matrix)\n",
    "\n",
    "    def __getitem__(self, idx):\n",
    "        if torch.is_tensor(idx):\n",
    "            idx = idx.tolist()\n",
    "\n",
    "        real_samples = self.genotype_matrix[idx, ]\n",
    "        samples = real_samples\n",
    "        labels = self.expression[idx, ]\n",
    "        batch = {'x': samples.astype(np.float64), 'y': labels}\n",
    "\n",
    "        return batch\n",
    "\n",
    "\n",
    "\n",
    "def ones_target(size):\n",
    "    '''\n",
    "    Tensor containing ones, with shape = size\n",
    "    '''\n",
    "    data = Variable(torch.ones(size, 1))\n",
    "    return data\n",
    "\n",
    "def zeros_target(size):\n",
    "    '''\n",
    "    Tensor containing zeros, with shape = size\n",
    "    '''\n",
    "    data = Variable(torch.zeros(size, 1))\n",
    "    return data"
   ],
   "metadata": {
    "collapsed": false,
    "pycharm": {
     "name": "#%%\n"
    }
   }
  },
  {
   "cell_type": "code",
   "execution_count": 85,
   "outputs": [],
   "source": [
    "dataset = Loader(X_train, y_train)"
   ],
   "metadata": {
    "collapsed": false,
    "pycharm": {
     "name": "#%%\n"
    }
   }
  },
  {
   "cell_type": "code",
   "execution_count": 169,
   "outputs": [],
   "source": [
    "gamma_dist = Gamma(1, 1 / 0.7, validate_args=True)"
   ],
   "metadata": {
    "collapsed": false,
    "pycharm": {
     "name": "#%%\n"
    }
   }
  },
  {
   "cell_type": "code",
   "execution_count": 178,
   "outputs": [
    {
     "data": {
      "text/plain": "tensor(1.2232e-06)"
     },
     "execution_count": 178,
     "metadata": {},
     "output_type": "execute_result"
    }
   ],
   "source": [
    "min(gamma_dist.sample_n(100000))"
   ],
   "metadata": {
    "collapsed": false,
    "pycharm": {
     "name": "#%%\n"
    }
   }
  },
  {
   "cell_type": "code",
   "execution_count": 185,
   "outputs": [],
   "source": [
    "from pyro.distributions import Normal, Gamma, MultivariateNormal\n",
    "# from scipy.stats import gamma\n",
    "alpha_gam = 1\n",
    "beta_gam = 0.7\n",
    "\n",
    "\n",
    "def prior_sample(size=1):\n",
    "    gamma_dist = Gamma(alpha_gam, 1 / beta_gam)\n",
    "    sigma = gamma_dist.sample(sample_shape=torch.Size([size]))\n",
    "\n",
    "    normal_dist = Normal(0, sigma)\n",
    "    beta = normal_dist.sample()\n",
    "    return beta, sigma\n",
    "\n",
    "def prior_prob(beta, sigma):\n",
    "    gamma_dist = Gamma(alpha_gam, 1 / beta_gam, validate_args=True)\n",
    "    sigma = torch.clip(sigma, 0 + 1e-9, torch.max(sigma))\n",
    "    p_sig = torch.exp(gamma_dist.log_prob(sigma))\n",
    "    normal_dist = Normal(0, sigma)\n",
    "    p_beta = torch.exp(normal_dist.log_prob(beta))\n",
    "\n",
    "    return p_beta, p_sig\n"
   ],
   "metadata": {
    "collapsed": false,
    "pycharm": {
     "name": "#%%\n"
    }
   }
  },
  {
   "cell_type": "code",
   "execution_count": 186,
   "outputs": [],
   "source": [
    "def metropolis_heisting(cur_beta, cur_sigma, cur_prob_theta, geno_mat, h_classifier):\n",
    "\n",
    "#     changed_value = np.full(cur_theta_prob.shape, 1)\n",
    "    counter = 0\n",
    "\n",
    "    while(True):\n",
    "        new_beta = MultivariateNormal(cur_beta.float(), var.float()).sample()\n",
    "        new_sigma = MultivariateNormal(cur_sigma.float(), var.float()).sample()\n",
    "\n",
    "        # new_beta = torch.clip(new_beta, -2, 2)\n",
    "\n",
    "        beta_prob, sigma_prob = prior_prob(new_beta, cur_sigma)\n",
    "        new_ys = torch.matmul(geno_mat.float(), new_beta)\n",
    "        with torch.no_grad():\n",
    "            r_value = h_classifier(new_ys, geno_mat, new_beta, cur_sigma)\n",
    "            r_value = torch.mean(r_value, dim=0)\n",
    "            r_value = r_value / (1 - r_value)\n",
    "            new_theta_prob = r_value * beta_prob * sigma_prob\n",
    "\n",
    "            rho = ((new_theta_prob) / (cur_prob_theta + 1e-7)).cpu().detach().numpy()\n",
    "            rho[rho > 1] = 1\n",
    "    #         rho = rho * changed_value\n",
    "    #        rho = min(1, (new_theta_prob)/(cur_theta_prob))\n",
    "            random_num = np.random.rand()\n",
    "            if np.isnan(np.sum(rho)):\n",
    "                print(\"EROR ------------------------\")\n",
    "                print(np.isnan(np.sum(cur_prob_theta)))\n",
    "                print(np.isnan(np.sum(new_prob_theta)))\n",
    "\n",
    "            if random_num < np.mean(rho):\n",
    "                cur_beta = new_beta\n",
    "                cur_sigma = cur_sigma\n",
    "                cur_theta_prob = new_theta_prob\n",
    "                # cur_beta = 1 / (1 + np.exp(-1 * cur_beta))\n",
    "                return cur_sigma, cur_beta, cur_theta_prob, new_ys\n",
    "\n",
    "        counter += 1\n",
    "\n",
    "        if counter > REP:\n",
    "#             print(\"It Takes quite time :(\")\n",
    "            cur_beta = (new_beta + cur_beta) / 2\n",
    "            cur_sigma = (new_sigma + cur_sigma) / 2\n",
    "            cur_theta_prob = (new_theta_prob + cur_prob_theta) / 2\n",
    "            # cur_beta = 1 / (1 + np.exp(-1 * cur_beta))\n",
    "            return torch.clip(cur_sigma, 1e-9, torch.max(cur_sigma)), cur_beta, cur_theta_prob, new_ys"
   ],
   "metadata": {
    "collapsed": false,
    "pycharm": {
     "name": "#%%\n"
    }
   }
  },
  {
   "cell_type": "code",
   "execution_count": 187,
   "outputs": [],
   "source": [
    "\n",
    "class Classifier(nn.Module):\n",
    "\n",
    "    def __init__(self, input_dim, num_classes=1):\n",
    "        super(Classifier, self).__init__()\n",
    "#         self.linear = nn.Linear(input_dim, 1)\n",
    "#         self.activation = nn.Sigmoid()\n",
    "\n",
    "        # Number of input features is 12.\n",
    "        # self.layer_1 = nn.Linear(input_dim, 1)\n",
    "        # self.act1 = nn.ReLU()\n",
    "        self.layer_out = nn.Linear(2, 1)\n",
    "        self.out = nn.LogSoftmax(dim=1)\n",
    "\n",
    "\n",
    "        self.criterion = nn.BCEWithLogitsLoss()\n",
    "\n",
    "    def cross_entropy(self, x, y):\n",
    "        n_d, h_d = x.shape\n",
    "\n",
    "        n_theta = x[0: int(n_d / 2),:]\n",
    "        n_x = x[int(n_d / 2):,:]\n",
    "\n",
    "        return (1 / n_d) * (torch.sum(torch.exp(-(n_theta))) + torch.sum(torch.exp(n_x)))\n",
    "\n",
    "    def forward(self, y, genotypes_batch, beta, label=None, testing=False):\n",
    "\n",
    "        y = torch.tensor(y).to(device).float()\n",
    "        beta = torch.Tensor(beta).to(device)[:, None].float()\n",
    "        genotypes_batch = torch.tensor(genotypes_batch).to(device).float()\n",
    "\n",
    "        comparison_vector = torch.matmul(genotypes_batch, beta)\n",
    "\n",
    "        # beta_summaries = self.act1(self.layer_1(beta))\n",
    "\n",
    "        # x = torch.cat([y[:, None], torch.repeat_interleave(beta_summaries[None, :], y.shape[0], dim=0)], dim=1)\n",
    "        x = torch.cat([y[:, None], comparison_vector], dim=-1)\n",
    "\n",
    "        x = self.layer_out(x)\n",
    "\n",
    "        logits = self.out(x)\n",
    "\n",
    "        if label is not None:\n",
    "            probs = torch.exp(logits) + 1e-6\n",
    "            if testing:\n",
    "              labels = probs.clone().squeeze()\n",
    "              labels[labels >= 0.5] = 1\n",
    "              labels[labels < 0.5] = 0\n",
    "              print(torch.sum(torch.abs(labels - label)), \"Wrong Preds out of\", len(label))\n",
    "\n",
    "              return [], []\n",
    "\n",
    "            loss = self.criterion(probs, label[:, None])\n",
    "            return probs, loss\n",
    "\n",
    "        return torch.exp(logits[:,-1]) + 1e-6\n",
    "\n",
    "    def get_n_params(model):\n",
    "        pp=0\n",
    "        for p in list(model.parameters()):\n",
    "            nn=1\n",
    "            for s in list(p.size()):\n",
    "                nn = nn*s\n",
    "            pp += nn\n",
    "        return pp"
   ],
   "metadata": {
    "collapsed": false,
    "pycharm": {
     "name": "#%%\n"
    }
   }
  },
  {
   "cell_type": "code",
   "execution_count": 201,
   "outputs": [
    {
     "name": "stdout",
     "output_type": "stream",
     "text": [
      "Running\\ on the CPU\n",
      "1\n"
     ]
    }
   ],
   "source": [
    "# threshold = 0.84\n",
    "threshold = 21\n",
    "# cor_thresh = 0.6\n",
    "d = X_train.shape[1]\n",
    "print_freq = 10\n",
    "\n",
    "if torch.cuda.is_available():\n",
    "    device = torch.device(\"cuda:0\")  # you can continue going on here, like cuda:1 cuda:2....etc.\n",
    "    print(\"Running on the GPU\")\n",
    "else:\n",
    "    device = torch.device(\"cpu\")\n",
    "    print(\"Running\\ on the CPU\")\n",
    "\n",
    "print(EPSILON)\n",
    "\n",
    "class LogisticRegression(nn.Module):\n",
    "\n",
    "    def __init__(self, input_dim, num_classes=1):\n",
    "        super(LogisticRegression, self).__init__()\n",
    "#         self.linear = nn.Linear(input_dim, 1)\n",
    "#         self.activation = nn.Sigmoid()\n",
    "\n",
    "        # Number of input features is 12.\n",
    "\n",
    "        self.discriminator = nn.Sequential(nn.Conv1d(1, 4, kernel_size=5, stride=3),\n",
    "                                           nn.LeakyReLU(0.2, inplace=0.2),\n",
    "                                           nn.Dropout(0.5),\n",
    "                                           nn.Conv1d(4, 8, kernel_size=4, stride=2),\n",
    "                                           nn.LeakyReLU(0.2, inplace=True),\n",
    "                                           nn.Dropout(0.3),\n",
    "                                           nn.Conv1d(8, 4, kernel_size=4, stride=2),\n",
    "                                           nn.LeakyReLU(0.2, inplace=True),\n",
    "                                           nn.Dropout(0.1),\n",
    "                                           nn.Conv1d(4, 1, kernel_size=4, dilation=1),\n",
    "                                           nn.LeakyReLU(0.2, inplace=True))\n",
    "\n",
    "        self.layer_out = nn.Sequential(nn.Linear(6, 1),\n",
    "                                       nn.Sigmoid())\n",
    "\n",
    "        # self.relu = nn.ReLU()\n",
    "        # self.dropout = nn.Dropout(p=0.1)\n",
    "        # self.batchnorm1 = nn.BatchNorm1d(64)\n",
    "        # self.batchnorm2 = nn.BatchNorm1d(64)\n",
    "\n",
    "        self.criterion = torch.nn.BCELoss(size_average=False)\n",
    "\n",
    "\n",
    "    def cross_entropy(self, x, y):\n",
    "        n_d, h_d = x.shape\n",
    "\n",
    "        n_theta = x[0: int(n_d / 2),:]\n",
    "        n_x = x[int(n_d / 2):,:]\n",
    "\n",
    "        return (1 / n_d) * (torch.sum(torch.exp(-(n_theta))) + torch.sum(torch.exp(n_x)))\n",
    "\n",
    "    def forward(self, y, genotypes_batch, beta, sigma, label=None, testing=False):\n",
    "\n",
    "        y = torch.tensor(y).to(device).float()\n",
    "        beta = torch.tensor(beta).to(device).float()\n",
    "        sigma = torch.tensor(sigma).to(device).float()\n",
    "\n",
    "        gamma_dist = Gamma(alpha_gam, 1 / beta_gam)\n",
    "        sigma_n = gamma_dist.sample(sample_shape=sigma.shape)\n",
    "\n",
    "        normal_dist = Normal(0, sigma_n)\n",
    "        beta_f = normal_dist.sample()\n",
    "        genotypes_batch = torch.tensor(genotypes_batch).to(device).float()\n",
    "\n",
    "        pheno_fake_f = torch.matmul(genotypes_batch, beta)[:, None]\n",
    "        pheno_fake_s = torch.matmul(genotypes_batch, beta_f)[:, None]\n",
    "        y = y[:, None]\n",
    "\n",
    "\n",
    "        # y = torch.Tensor(y).to(device)\n",
    "        # beta = torch.Tensor(beta).to(device)\n",
    "\n",
    "        # y = torch.repeat_interleave(y[:, None], d, dim=-1)\n",
    "        # beta = torch.repeat_interleave(beta[None, :], y.shape[0], dim=0)\n",
    "\n",
    "        x = torch.cat([beta, sigma], dim=-1)[None, None, :]\n",
    "\n",
    "#         out = self.linear(x)\n",
    "#         out = self.activation(out)\n",
    "        x = self.discriminator(x).squeeze()\n",
    "\n",
    "        x = torch.repeat_interleave(x[None, :], y.shape[0], dim=0)\n",
    "        lab_vec = torch.cat([y, pheno_fake_f, pheno_fake_s], dim=-1)\n",
    "        aux_loss = nn.MSELoss()(x, lab_vec)\n",
    "        x = torch.cat([x, lab_vec], dim=-1)\n",
    "\n",
    "        # x = self.batchnorm1(x)\n",
    "\n",
    "        # x = self.batchnorm2(x)\n",
    "        # x = self.dropout(x)\n",
    "        # x = torch.squeeze(self.layer_out(x))\n",
    "\n",
    "        probs = self.layer_out(x)\n",
    "\n",
    "        # print(x[x>0].shape, \"CLASSIFIER\")\n",
    "        # input()\n",
    "\n",
    "        if label is not None:\n",
    "\n",
    "            loss = self.criterion(probs, label[:, None])\n",
    "\n",
    "            if testing:\n",
    "              predicted = torch.round(probs).squeeze()\n",
    "              print(float((len(label) - torch.sum(torch.abs(predicted - label)))) / len(label) * 100.0, \" % acc\")\n",
    "\n",
    "              return torch.sum(torch.abs(predicted - label))\n",
    "\n",
    "            return probs, loss + aux_loss\n",
    "\n",
    "        return probs\n",
    "\n",
    "    def get_n_params(model):\n",
    "        pp=0\n",
    "        for p in list(model.parameters()):\n",
    "            nn=1\n",
    "            for s in list(p.size()):\n",
    "                nn = nn*s\n",
    "            pp += nn\n",
    "        return pp"
   ],
   "metadata": {
    "collapsed": false,
    "pycharm": {
     "name": "#%%\n"
    }
   }
  },
  {
   "cell_type": "code",
   "execution_count": 202,
   "outputs": [
    {
     "name": "stdout",
     "output_type": "stream",
     "text": [
      "316\n"
     ]
    }
   ],
   "source": [
    "\n",
    "data_loader = DataLoader(dataset, batch_size=BATCH_SIZE)\n",
    "\n",
    "if simple_model:\n",
    "  classifier = Classifier(d).to(device)\n",
    "else:\n",
    "  classifier = LogisticRegression(d * 2).to(device)\n",
    "\n",
    "print(classifier.get_n_params())\n",
    "\n",
    "optimizer = optim.Adam(classifier\n",
    "                         .parameters(), lr=0.0002)\n",
    "\n",
    "losses = []\n",
    "distances = []\n",
    "\n",
    "denum = X_train.shape[0] / BATCH_SIZE\n",
    "\n",
    "losses = []\n",
    "\n",
    "\n",
    "# Sampling beta\n",
    "proper_beta_samples = []\n",
    "proper_sigma_samples = []\n",
    "# proper_beta_samples_distances = []\n",
    "\n",
    "all_beta = []\n",
    "\n",
    "counter = 0\n",
    "\n",
    "# RES_DICT['total_beta_sample'] = total_beta_sample\n",
    "\n",
    "\n",
    "distance = -1\n",
    "\n",
    "\n",
    "##### Saving\n",
    "min_dist = 0\n",
    "best_model = None\n",
    "\n",
    "var = torch.tensor(np.eye(d) * (0.5 / 50), dtype=torch.float64)"
   ],
   "metadata": {
    "collapsed": false,
    "pycharm": {
     "name": "#%%\n"
    }
   }
  },
  {
   "cell_type": "code",
   "execution_count": 204,
   "outputs": [
    {
     "name": "stderr",
     "output_type": "stream",
     "text": [
      "  0%|          | 0/5000 [00:00<?, ?it/s]"
     ]
    },
    {
     "name": "stdout",
     "output_type": "stream",
     "text": [
      "---------\n",
      "Validation distance: 30.868854566464385\n",
      "Validation correlation: -0.007488927448427661\n",
      "EPOCH 0\n",
      "Total Error tensor(169298.6250, grad_fn=<DivBackward0>)\n",
      "54 LEN\n"
     ]
    },
    {
     "data": {
      "text/plain": "<Figure size 432x288 with 1 Axes>",
      "image/png": "[encoded data removed]"
     },
     "metadata": {},
     "output_type": "display_data"
    },
    {
     "name": "stderr",
     "output_type": "stream",
     "text": [
      " 10%|█         | 500/5000 [01:00<05:54, 12.68it/s]  "
     ]
    },
    {
     "name": "stdout",
     "output_type": "stream",
     "text": [
      "96.6542750929368  % acc\n",
      "93.86617100371747  % acc\n",
      "95.2602207660675 %\n",
      "Best modedl changed\n",
      "---------\n",
      "Validation distance: 31.198209345232467\n",
      "Validation correlation: -0.028012753453596665\n",
      "EPOCH 500\n",
      "Total Error tensor(163157.9844, grad_fn=<DivBackward0>)\n",
      "364 LEN\n"
     ]
    },
    {
     "data": {
      "text/plain": "<Figure size 432x288 with 1 Axes>",
      "image/png": "[encoded data removed]"
     },
     "metadata": {},
     "output_type": "display_data"
    },
    {
     "name": "stderr",
     "output_type": "stream",
     "text": [
      " 20%|█▉        | 996/5000 [02:04<08:18,  8.03it/s]\n"
     ]
    },
    {
     "name": "stdout",
     "output_type": "stream",
     "text": [
      "EROR ------------------------\n"
     ]
    },
    {
     "ename": "TypeError",
     "evalue": "sum() received an invalid combination of arguments - got (out=NoneType, axis=NoneType, ), but expected one of:\n * (*, torch.dtype dtype)\n      didn't match because some of the keywords were incorrect: out, axis\n * (tuple of names dim, bool keepdim, *, torch.dtype dtype)\n * (tuple of ints dim, bool keepdim, *, torch.dtype dtype)\n",
     "output_type": "error",
     "traceback": [
      "\u001B[0;31m---------------------------------------------------------------------------\u001B[0m",
      "\u001B[0;31mTypeError\u001B[0m                                 Traceback (most recent call last)",
      "\u001B[0;32m<ipython-input-204-e1904118645d>\u001B[0m in \u001B[0;36m<module>\u001B[0;34m\u001B[0m\n\u001B[1;32m     30\u001B[0m         \u001B[0mpheno_batch\u001B[0m \u001B[0;34m=\u001B[0m \u001B[0mbatch\u001B[0m\u001B[0;34m[\u001B[0m\u001B[0;34m'y'\u001B[0m\u001B[0;34m]\u001B[0m\u001B[0;34m\u001B[0m\u001B[0;34m\u001B[0m\u001B[0m\n\u001B[1;32m     31\u001B[0m \u001B[0;34m\u001B[0m\u001B[0m\n\u001B[0;32m---> 32\u001B[0;31m         \u001B[0msampled_sigma\u001B[0m\u001B[0;34m,\u001B[0m \u001B[0msampled_beta\u001B[0m\u001B[0;34m,\u001B[0m \u001B[0mprob_theta\u001B[0m\u001B[0;34m,\u001B[0m \u001B[0msampled_y\u001B[0m\u001B[0;34m,\u001B[0m \u001B[0;34m=\u001B[0m \u001B[0mmetropolis_heisting\u001B[0m\u001B[0;34m(\u001B[0m\u001B[0mcur_beta\u001B[0m\u001B[0;34m,\u001B[0m \u001B[0mcur_sigma\u001B[0m\u001B[0;34m,\u001B[0m \u001B[0mcur_theta_prob\u001B[0m\u001B[0;34m,\u001B[0m \u001B[0mgeno_batch\u001B[0m\u001B[0;34m,\u001B[0m \u001B[0mclassifier\u001B[0m\u001B[0;34m)\u001B[0m\u001B[0;34m\u001B[0m\u001B[0;34m\u001B[0m\u001B[0m\n\u001B[0m\u001B[1;32m     33\u001B[0m \u001B[0;31m#         sampled_y = torch.sigmoid(torch.tensor(sampled_y)).numpy()\u001B[0m\u001B[0;34m\u001B[0m\u001B[0;34m\u001B[0m\u001B[0;34m\u001B[0m\u001B[0m\n\u001B[1;32m     34\u001B[0m \u001B[0;34m\u001B[0m\u001B[0m\n",
      "\u001B[0;32m<ipython-input-186-c00cf94d153d>\u001B[0m in \u001B[0;36mmetropolis_heisting\u001B[0;34m(cur_beta, cur_sigma, cur_prob_theta, geno_mat, h_classifier)\u001B[0m\n\u001B[1;32m     25\u001B[0m             \u001B[0;32mif\u001B[0m \u001B[0mnp\u001B[0m\u001B[0;34m.\u001B[0m\u001B[0misnan\u001B[0m\u001B[0;34m(\u001B[0m\u001B[0mnp\u001B[0m\u001B[0;34m.\u001B[0m\u001B[0msum\u001B[0m\u001B[0;34m(\u001B[0m\u001B[0mrho\u001B[0m\u001B[0;34m)\u001B[0m\u001B[0;34m)\u001B[0m\u001B[0;34m:\u001B[0m\u001B[0;34m\u001B[0m\u001B[0;34m\u001B[0m\u001B[0m\n\u001B[1;32m     26\u001B[0m                 \u001B[0mprint\u001B[0m\u001B[0;34m(\u001B[0m\u001B[0;34m\"EROR ------------------------\"\u001B[0m\u001B[0;34m)\u001B[0m\u001B[0;34m\u001B[0m\u001B[0;34m\u001B[0m\u001B[0m\n\u001B[0;32m---> 27\u001B[0;31m                 \u001B[0mprint\u001B[0m\u001B[0;34m(\u001B[0m\u001B[0mnp\u001B[0m\u001B[0;34m.\u001B[0m\u001B[0misnan\u001B[0m\u001B[0;34m(\u001B[0m\u001B[0mnp\u001B[0m\u001B[0;34m.\u001B[0m\u001B[0msum\u001B[0m\u001B[0;34m(\u001B[0m\u001B[0mcur_prob_theta\u001B[0m\u001B[0;34m)\u001B[0m\u001B[0;34m)\u001B[0m\u001B[0;34m)\u001B[0m\u001B[0;34m\u001B[0m\u001B[0;34m\u001B[0m\u001B[0m\n\u001B[0m\u001B[1;32m     28\u001B[0m                 \u001B[0mprint\u001B[0m\u001B[0;34m(\u001B[0m\u001B[0mnp\u001B[0m\u001B[0;34m.\u001B[0m\u001B[0misnan\u001B[0m\u001B[0;34m(\u001B[0m\u001B[0mnp\u001B[0m\u001B[0;34m.\u001B[0m\u001B[0msum\u001B[0m\u001B[0;34m(\u001B[0m\u001B[0mnew_prob_theta\u001B[0m\u001B[0;34m)\u001B[0m\u001B[0;34m)\u001B[0m\u001B[0;34m)\u001B[0m\u001B[0;34m\u001B[0m\u001B[0;34m\u001B[0m\u001B[0m\n\u001B[1;32m     29\u001B[0m \u001B[0;34m\u001B[0m\u001B[0m\n",
      "\u001B[0;32m<__array_function__ internals>\u001B[0m in \u001B[0;36msum\u001B[0;34m(*args, **kwargs)\u001B[0m\n",
      "\u001B[0;32m~/Library/Python/3.7/lib/python/site-packages/numpy/core/fromnumeric.py\u001B[0m in \u001B[0;36msum\u001B[0;34m(a, axis, dtype, out, keepdims, initial, where)\u001B[0m\n\u001B[1;32m   2258\u001B[0m     \u001B[0ma\u001B[0m \u001B[0;34m:\u001B[0m \u001B[0marray_like\u001B[0m\u001B[0;34m\u001B[0m\u001B[0;34m\u001B[0m\u001B[0m\n\u001B[1;32m   2259\u001B[0m         \u001B[0mInput\u001B[0m \u001B[0marray\u001B[0m \u001B[0;32mor\u001B[0m \u001B[0mobject\u001B[0m \u001B[0mthat\u001B[0m \u001B[0mcan\u001B[0m \u001B[0mbe\u001B[0m \u001B[0mconverted\u001B[0m \u001B[0mto\u001B[0m \u001B[0man\u001B[0m \u001B[0marray\u001B[0m\u001B[0;34m.\u001B[0m\u001B[0;34m\u001B[0m\u001B[0;34m\u001B[0m\u001B[0m\n\u001B[0;32m-> 2260\u001B[0;31m     \u001B[0maxis\u001B[0m \u001B[0;34m:\u001B[0m \u001B[0;32mNone\u001B[0m \u001B[0;32mor\u001B[0m \u001B[0mint\u001B[0m \u001B[0;32mor\u001B[0m \u001B[0mtuple\u001B[0m \u001B[0mof\u001B[0m \u001B[0mints\u001B[0m\u001B[0;34m,\u001B[0m \u001B[0moptional\u001B[0m\u001B[0;34m\u001B[0m\u001B[0;34m\u001B[0m\u001B[0m\n\u001B[0m\u001B[1;32m   2261\u001B[0m         \u001B[0mAxis\u001B[0m \u001B[0;32mor\u001B[0m \u001B[0maxes\u001B[0m \u001B[0malong\u001B[0m \u001B[0mwhich\u001B[0m \u001B[0ma\u001B[0m \u001B[0mlogical\u001B[0m \u001B[0mOR\u001B[0m \u001B[0mreduction\u001B[0m \u001B[0;32mis\u001B[0m \u001B[0mperformed\u001B[0m\u001B[0;34m.\u001B[0m\u001B[0;34m\u001B[0m\u001B[0;34m\u001B[0m\u001B[0m\n\u001B[1;32m   2262\u001B[0m         \u001B[0mThe\u001B[0m \u001B[0mdefault\u001B[0m \u001B[0;34m(\u001B[0m\u001B[0;31m`\u001B[0m\u001B[0;31m`\u001B[0m\u001B[0maxis\u001B[0m\u001B[0;34m=\u001B[0m\u001B[0;32mNone\u001B[0m\u001B[0;31m`\u001B[0m\u001B[0;31m`\u001B[0m\u001B[0;34m)\u001B[0m \u001B[0;32mis\u001B[0m \u001B[0mto\u001B[0m \u001B[0mperform\u001B[0m \u001B[0ma\u001B[0m \u001B[0mlogical\u001B[0m \u001B[0mOR\u001B[0m \u001B[0mover\u001B[0m \u001B[0mall\u001B[0m\u001B[0;34m\u001B[0m\u001B[0;34m\u001B[0m\u001B[0m\n",
      "\u001B[0;32m~/Library/Python/3.7/lib/python/site-packages/numpy/core/fromnumeric.py\u001B[0m in \u001B[0;36m_wrapreduction\u001B[0;34m(obj, ufunc, method, axis, dtype, out, **kwargs)\u001B[0m\n\u001B[1;32m     82\u001B[0m             \u001B[0;32mif\u001B[0m \u001B[0mdtype\u001B[0m \u001B[0;32mis\u001B[0m \u001B[0;32mnot\u001B[0m \u001B[0;32mNone\u001B[0m\u001B[0;34m:\u001B[0m\u001B[0;34m\u001B[0m\u001B[0;34m\u001B[0m\u001B[0m\n\u001B[1;32m     83\u001B[0m                 \u001B[0;32mreturn\u001B[0m \u001B[0mreduction\u001B[0m\u001B[0;34m(\u001B[0m\u001B[0maxis\u001B[0m\u001B[0;34m=\u001B[0m\u001B[0maxis\u001B[0m\u001B[0;34m,\u001B[0m \u001B[0mdtype\u001B[0m\u001B[0;34m=\u001B[0m\u001B[0mdtype\u001B[0m\u001B[0;34m,\u001B[0m \u001B[0mout\u001B[0m\u001B[0;34m=\u001B[0m\u001B[0mout\u001B[0m\u001B[0;34m,\u001B[0m \u001B[0;34m**\u001B[0m\u001B[0mpasskwargs\u001B[0m\u001B[0;34m)\u001B[0m\u001B[0;34m\u001B[0m\u001B[0;34m\u001B[0m\u001B[0m\n\u001B[0;32m---> 84\u001B[0;31m             \u001B[0;32melse\u001B[0m\u001B[0;34m:\u001B[0m\u001B[0;34m\u001B[0m\u001B[0;34m\u001B[0m\u001B[0m\n\u001B[0m\u001B[1;32m     85\u001B[0m                 \u001B[0;32mreturn\u001B[0m \u001B[0mreduction\u001B[0m\u001B[0;34m(\u001B[0m\u001B[0maxis\u001B[0m\u001B[0;34m=\u001B[0m\u001B[0maxis\u001B[0m\u001B[0;34m,\u001B[0m \u001B[0mout\u001B[0m\u001B[0;34m=\u001B[0m\u001B[0mout\u001B[0m\u001B[0;34m,\u001B[0m \u001B[0;34m**\u001B[0m\u001B[0mpasskwargs\u001B[0m\u001B[0;34m)\u001B[0m\u001B[0;34m\u001B[0m\u001B[0;34m\u001B[0m\u001B[0m\n\u001B[1;32m     86\u001B[0m \u001B[0;34m\u001B[0m\u001B[0m\n",
      "\u001B[0;31mTypeError\u001B[0m: sum() received an invalid combination of arguments - got (out=NoneType, axis=NoneType, ), but expected one of:\n * (*, torch.dtype dtype)\n      didn't match because some of the keywords were incorrect: out, axis\n * (tuple of names dim, bool keepdim, *, torch.dtype dtype)\n * (tuple of ints dim, bool keepdim, *, torch.dtype dtype)\n"
     ]
    }
   ],
   "source": [
    "for epoch in tqdm(range(num_epochs)):\n",
    "\n",
    "    error_sum = 0\n",
    "    distance_sum = 0\n",
    "\n",
    "#     var = np.eye(d) * (0.75 / (epoch + 1))\n",
    "\n",
    "    cur_beta, cur_sigma = prior_sample(d)\n",
    "\n",
    "    cur_ys = np.dot(X_train, cur_beta)\n",
    "    cur_ys -= np.mean(cur_ys)\n",
    "    cur_ys /= np.var(cur_ys)\n",
    "    beta_prob, sigma_prob = prior_prob(torch.tensor(cur_beta), torch.tensor(cur_sigma))\n",
    "    # cur_r_value = classifier(cur_ys, train_genotypes.astype(np.float64), cur_beta).cpu().detach().numpy()\n",
    "    # cur_r_value = np.mean(cur_r_value, axis=0)\n",
    "    cur_r_value = classifier(cur_ys, X_train.astype(np.float16), cur_beta, cur_sigma)\n",
    "\n",
    "    cur_r_value = torch.mean(cur_r_value, dim=0)\n",
    "    cur_r_value = cur_r_value / (1 - cur_r_value)\n",
    "\n",
    "    cur_theta_prob = cur_r_value * beta_prob * sigma_prob\n",
    "\n",
    "    for n_batch, batch in enumerate(data_loader):\n",
    "\n",
    "        optimizer.zero_grad()\n",
    "\n",
    "        N = batch['x'].size(0)\n",
    "\n",
    "        geno_batch = batch['x']\n",
    "        pheno_batch = batch['y']\n",
    "\n",
    "        sampled_sigma, sampled_beta, prob_theta, sampled_y, = metropolis_heisting(cur_beta, cur_sigma, cur_theta_prob, geno_batch, classifier)\n",
    "#         sampled_y = torch.sigmoid(torch.tensor(sampled_y)).numpy()\n",
    "\n",
    "#         sampled_y = sampled_y\n",
    "        sampled_y -= sampled_y.mean()\n",
    "        sampled_y /= sampled_y.std()\n",
    "\n",
    "        # sampled_y *= -1\n",
    "\n",
    "        distance = torch.mean((sampled_y - pheno_batch) ** 2)\n",
    "        correlation = pearsonr(pheno_batch, sampled_y)[0]\n",
    "\n",
    "\n",
    "#         print(distance)\n",
    "        distance_sum += distance\n",
    "\n",
    "        _, loss_f = classifier(sampled_y, geno_batch, sampled_beta, sampled_sigma, label=torch.full(sampled_y.shape, 0.0))\n",
    "        _, loss_r = classifier(pheno_batch, geno_batch, sampled_beta, sampled_sigma, label=torch.full(pheno_batch.shape, 1.0))\n",
    "\n",
    "#         _, loss_f = classifier(sampled_y, sampled_beta, torch.full(sampled_y.shape, 0.0))\n",
    "#         loss_f *= ((distance ** 2))\n",
    "\n",
    "#         _, loss_r = classifier(pheno_batch, sampled_beta, torch.full(pheno_batch.shape, 1.0))\n",
    "#         loss_r *= ((distance ** 2))\n",
    "\n",
    "        loss = loss_f + loss_r\n",
    "        loss *= (distance ** 2)\n",
    "\n",
    "        # loss += lambda_val * torch.mean(torch.abs(sampled_beta))\n",
    "        # / d + torch.mean((sampled_beta - betas) ** 2))\n",
    "\n",
    "        loss.backward()\n",
    "\n",
    "        optimizer.step()\n",
    "        error_sum += loss\n",
    "\n",
    "        # proper_beta_samples.append(sampled_beta.cpu().detach().numpy())\n",
    "        if distance < 1:\n",
    "          all_beta.append(sampled_beta.cpu().detach().numpy())\n",
    "\n",
    "        if distance < threshold:\n",
    "          proper_beta_samples.append(sampled_beta.cpu().detach().numpy())\n",
    "          proper_sigma_samples.append(sampled_sigma.cpu().detach().numpy())\n",
    "\n",
    "        # proper_beta_samples_dist[distance] = sampled_beta.cpu().detach().numpy()\n",
    "\n",
    "        cur_beta = sampled_beta.clone()\n",
    "        cur_sigma = sampled_sigma.clone()\n",
    "        cur_theta_prob = prob_theta\n",
    "\n",
    "    proper_beta_samples_val = np.array(proper_beta_samples)\n",
    "    proper_beta_samples_val = np.mean(proper_beta_samples_val, axis=0)\n",
    "\n",
    "    proper_sigma_samples_val = np.array(proper_sigma_samples)\n",
    "    proper_sigma_samples_val = np.mean(proper_sigma_samples_val, axis=0)\n",
    "\n",
    "    if len(proper_beta_samples) > 0:\n",
    "            # print(\"Using proper sets\")\n",
    "            proper_beta_samples_val = np.array(proper_beta_samples)\n",
    "            proper_beta_samples_val = np.mean(proper_beta_samples_val, axis=0)\n",
    "\n",
    "            proper_sigma_samples_val = np.array(proper_sigma_samples)\n",
    "            proper_sigma_samples_val = np.mean(proper_sigma_samples_val, axis=0)\n",
    "\n",
    "            val_y = np.dot(X_train, proper_beta_samples_val)\n",
    "\n",
    "    else:\n",
    "            val_y = np.dot(X_train, sampled_beta)\n",
    "\n",
    "    val_y -= np.mean(val_y)\n",
    "    val_y /= np.var(val_y)\n",
    "\n",
    "    val_distance = np.mean((val_y - y_train) ** 2)\n",
    "    val_correlation = pearsonr(y_train, val_y)[0]\n",
    "\n",
    "    if (epoch % int(num_epochs / print_freq) == 0 and epoch >= int(num_epochs / print_freq)) or epoch == 0:\n",
    "        if epoch > 0:\n",
    "          wrongs_f = classifier(val_y, X_train, proper_beta_samples_val, proper_sigma_samples_val, label=torch.full(val_y.shape, 0.0), testing=True)\n",
    "          wrongs_r = classifier(y_train, X_train, proper_beta_samples_val, proper_sigma_samples_val, label=torch.full(y_train.shape, 1.0), testing=True)\n",
    "          acc = float(((len(val_y) + len(y_train) - (wrongs_f + wrongs_r)) / (len(val_y) + len(y_train))).detach().numpy())\n",
    "          print(acc * 100, '%')\n",
    "          if min_dist < acc:\n",
    "            min_dist = acc\n",
    "            best_model = torch.save(classifier.state_dict(), \"./best_modedl.pt\")\n",
    "            print(\"Best modedl changed\")\n",
    "\n",
    "\n",
    "          # threshold = val_distance\n",
    "          # cor_thresh = val_correlation\n",
    "\n",
    "          # print(threshold)\n",
    "          # print(cor_thresh, \"CORR\")\n",
    "\n",
    "        print(\"---------\")\n",
    "        print(\"Validation distance:\", val_distance)\n",
    "        print(\"Validation correlation:\", val_correlation)\n",
    "        print(\"EPOCH\", epoch)\n",
    "        print(\"Total Error\", error_sum / n_batch) ####\n",
    "        print(len(proper_beta_samples), 'LEN')\n",
    "\n",
    "\n",
    "        plt.scatter(y_train, val_y)\n",
    "        xpoints = ypoints = plt.xlim()\n",
    "        plt.plot(xpoints, ypoints, linestyle='--', color='k', lw=3, scalex=False, scaley=False)\n",
    "        plt.show()\n",
    "#     print(distance_sum / denum)\n",
    "\n",
    "    losses.append([error_sum / denum])\n",
    "    distances.append([distance_sum / denum])"
   ],
   "metadata": {
    "collapsed": false,
    "pycharm": {
     "name": "#%%\n"
    }
   }
  },
  {
   "cell_type": "code",
   "execution_count": null,
   "outputs": [],
   "source": [
    "X_train.shape"
   ],
   "metadata": {
    "collapsed": false,
    "pycharm": {
     "name": "#%%\n"
    }
   }
  },
  {
   "cell_type": "code",
   "execution_count": 198,
   "outputs": [
    {
     "data": {
      "text/plain": "nan"
     },
     "execution_count": 198,
     "metadata": {},
     "output_type": "execute_result"
    }
   ],
   "source": [
    "proper_beta_samples_val"
   ],
   "metadata": {
    "collapsed": false,
    "pycharm": {
     "name": "#%%\n"
    }
   }
  },
  {
   "cell_type": "code",
   "execution_count": null,
   "outputs": [],
   "source": [],
   "metadata": {
    "collapsed": false,
    "pycharm": {
     "name": "#%%\n"
    }
   }
  }
 ],
 "metadata": {
  "kernelspec": {
   "display_name": "Python 3",
   "language": "python",
   "name": "python3"
  },
  "language_info": {
   "codemirror_mode": {
    "name": "ipython",
    "version": 2
   },
   "file_extension": ".py",
   "mimetype": "text/x-python",
   "name": "python",
   "nbconvert_exporter": "python",
   "pygments_lexer": "ipython2",
   "version": "2.7.6"
  }
 },
 "nbformat": 4,
 "nbformat_minor": 0
}